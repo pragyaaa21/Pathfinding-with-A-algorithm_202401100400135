{
  "nbformat": 4,
  "nbformat_minor": 0,
  "metadata": {
    "colab": {
      "provenance": []
    },
    "kernelspec": {
      "name": "python3",
      "display_name": "Python 3"
    },
    "language_info": {
      "name": "python"
    }
  },
  "cells": [
    {
      "cell_type": "code",
      "execution_count": null,
      "metadata": {
        "colab": {
          "base_uri": "https://localhost:8080/"
        },
        "id": "l8YwWua8S8Kg",
        "outputId": "5c6de799-ef90-42e3-b42b-93cb7538ff08"
      },
      "outputs": [
        {
          "output_type": "stream",
          "name": "stdout",
          "text": [
            "Path in grid1: [(0, 0), (1, 0), (2, 0), (2, 1), (2, 2), (3, 2), (4, 2), (4, 3), (4, 4)]\n",
            "Path in grid2: [(0, 0), (0, 1), (0, 2), (0, 3), (0, 4), (1, 4), (2, 4), (2, 3), (2, 2), (2, 1), (2, 0), (3, 0), (4, 0), (4, 1), (4, 2), (4, 3), (4, 4)]\n"
          ]
        }
      ],
      "source": [
        "import heapq\n",
        "\n",
        "class Node:\n",
        "    def __init__(self, position, parent=None):\n",
        "        self.position = position  # (x, y) position in the grid\n",
        "        self.parent = parent  # Parent node for path reconstruction\n",
        "        self.g = 0  # Cost from start to this node\n",
        "        self.h = 0  # Heuristic cost to goal\n",
        "        self.f = 0  # Total cost (g + h)\n",
        "\n",
        "    def __lt__(self, other):\n",
        "        return self.f < other.f  # Priority queue sorting\n",
        "\n",
        "def heuristic(a, b):\n",
        "    return abs(a[0] - b[0]) + abs(a[1] - b[1])  # Manhattan distance\n",
        "\n",
        "def astar(grid, start, end):\n",
        "    open_list = []  # Nodes to be evaluated\n",
        "    closed_set = set()  # Already evaluated nodes\n",
        "    start_node = Node(start)\n",
        "    end_node = Node(end)\n",
        "    heapq.heappush(open_list, start_node)\n",
        "\n",
        "    while open_list:\n",
        "        current_node = heapq.heappop(open_list)  # Get node with lowest f\n",
        "\n",
        "        if current_node.position == end:  # Path found\n",
        "            path = []\n",
        "            while current_node:\n",
        "                path.append(current_node.position)\n",
        "                current_node = current_node.parent\n",
        "            return path[::-1]\n",
        "\n",
        "        closed_set.add(current_node.position)\n",
        "\n",
        "        for dx, dy in [(-1, 0), (1, 0), (0, -1), (0, 1)]:  # Adjacent moves\n",
        "            neighbor_pos = (current_node.position[0] + dx, current_node.position[1] + dy)\n",
        "\n",
        "            if (neighbor_pos[0] < 0 or neighbor_pos[0] >= len(grid) or\n",
        "                neighbor_pos[1] < 0 or neighbor_pos[1] >= len(grid[0]) or\n",
        "                grid[neighbor_pos[0]][neighbor_pos[1]] == 1 or\n",
        "                neighbor_pos in closed_set):\n",
        "                continue  # Ignore invalid positions\n",
        "\n",
        "            neighbor = Node(neighbor_pos, current_node)\n",
        "            neighbor.g = current_node.g + 1  # Move cost\n",
        "            neighbor.h = heuristic(neighbor.position, end)\n",
        "            neighbor.f = neighbor.g + neighbor.h\n",
        "\n",
        "            if any(n for n in open_list if n.position == neighbor.position and n.g <= neighbor.g):\n",
        "                continue  # Skip if better path exists\n",
        "\n",
        "            heapq.heappush(open_list, neighbor)\n",
        "\n",
        "    return None  # No path found\n",
        "\n",
        "grid1 = [\n",
        "    [0, 1, 0, 0, 0],\n",
        "    [0, 1, 0, 1, 0],\n",
        "    [0, 0, 0, 1, 0],\n",
        "    [1, 1, 0, 1, 0],\n",
        "    [0, 0, 0, 0, 0]\n",
        "]\n",
        "\n",
        "grid2 = [\n",
        "    [0, 0, 0, 0, 0],\n",
        "    [1, 1, 1, 1, 0],\n",
        "    [0, 0, 0, 0, 0],\n",
        "    [0, 1, 1, 1, 1],\n",
        "    [0, 0, 0, 0, 0]\n",
        "]\n",
        "\n",
        "start = (0, 0)\n",
        "end = (4, 4)\n",
        "path1 = astar(grid1, start, end)\n",
        "path2 = astar(grid2, start, end)\n",
        "print(\"Path in grid1:\", path1)\n",
        "print(\"Path in grid2:\", path2)"
      ]
    }
  ]
}